{
  "nbformat": 4,
  "nbformat_minor": 0,
  "metadata": {
    "colab": {
      "name": "Forest, Features and LightGBM.ipynb",
      "provenance": [],
      "include_colab_link": true
    },
    "kernelspec": {
      "name": "python3",
      "display_name": "Python 3"
    }
  },
  "cells": [
    {
      "cell_type": "markdown",
      "metadata": {
        "id": "view-in-github",
        "colab_type": "text"
      },
      "source": [
        "<a href=\"https://colab.research.google.com/github/thimotyb/real-world-machine-learning/blob/python3/Forest%2C_Features_and_LightGBM.ipynb\" target=\"_parent\"><img src=\"https://colab.research.google.com/assets/colab-badge.svg\" alt=\"Open In Colab\"/></a>"
      ]
    },
    {
      "cell_type": "markdown",
      "metadata": {
        "id": "MJAripWzDzMo",
        "colab_type": "text"
      },
      "source": [
        "# Dimostrazione di valutazione dell'importanza delle feature selezionate nella foresta\n",
        "## Confronto tra classificazione ad albero singolo, random forest e LightGBM\n"
      ]
    },
    {
      "cell_type": "markdown",
      "metadata": {
        "id": "SjPAEh6tEjU4",
        "colab_type": "text"
      },
      "source": [
        "Import SciKit Tree Library and LightGBM Library"
      ]
    },
    {
      "cell_type": "code",
      "metadata": {
        "id": "K-AAeVxODnbw",
        "colab_type": "code",
        "colab": {}
      },
      "source": [
        "from sklearn import tree\n",
        "import pandas\n",
        "import numpy as np\n",
        "import matplotlib.pyplot as plt\n",
        "import lightgbm as lgb # Microsoft lightGBM install with: conda install -c conda-forge lightgbm"
      ],
      "execution_count": 0,
      "outputs": []
    },
    {
      "cell_type": "markdown",
      "metadata": {
        "id": "ZiGYOJy_EoKI",
        "colab_type": "text"
      },
      "source": [
        "My functions to do OHE and do feature engineering on Titanic"
      ]
    },
    {
      "cell_type": "code",
      "metadata": {
        "id": "PMGlN204Dv3l",
        "colab_type": "code",
        "colab": {}
      },
      "source": [
        "def cat_to_num(data):\n",
        "    categories = np.unique(data)\n",
        "    features = {}\n",
        "    for cat in categories:\n",
        "        binary = (data == cat)\n",
        "        features[\"%s=%s\" % (data.name, cat)] = binary.astype(\"int\")\n",
        "    return pandas.DataFrame(features)\n",
        "    \n",
        "def prepare_data(data):\n",
        "    \"\"\"Takes a dataframe of raw data and returns ML model features\n",
        "    \"\"\"\n",
        "    \n",
        "    # Initially, we build a model only on the available numerical values\n",
        "    features = data.drop([\"PassengerId\", \"Survived\", \"Fare\", \"Name\", \"Sex\", \"Ticket\", \"Cabin\", \"Embarked\"], axis=1)\n",
        "    \n",
        "    # Setting missing age values to -1\n",
        "    features[\"Age\"] = data[\"Age\"].fillna(-1)\n",
        "    \n",
        "    # Adding the sqrt of the fare feature\n",
        "    features[\"sqrt_Fare\"] = np.sqrt(data[\"Fare\"])\n",
        "    \n",
        "    # Adding gender categorical value\n",
        "    features = features.join( cat_to_num(data['Sex']) )\n",
        "    \n",
        "    # Adding Embarked categorical value\n",
        "    features = features.join( cat_to_num(data['Embarked'].fillna(\"\")) )\n",
        "    \n",
        "    return features\n"
      ],
      "execution_count": 0,
      "outputs": []
    },
    {
      "cell_type": "markdown",
      "metadata": {
        "id": "ppqQdGe8EfmA",
        "colab_type": "text"
      },
      "source": [
        "Load, split, prepare data"
      ]
    },
    {
      "cell_type": "code",
      "metadata": {
        "id": "E53EOtVxEGRD",
        "colab_type": "code",
        "colab": {}
      },
      "source": [
        "data = pandas.read_csv(\"https://raw.githubusercontent.com/thimotyb/real-world-machine-learning/master/data/titanic.csv\")\n",
        "data_train = data[:int(0.8*len(data))]\n",
        "data_test = data[int(0.8*len(data)):]\n",
        "features = prepare_data(data_train)"
      ],
      "execution_count": 0,
      "outputs": []
    },
    {
      "cell_type": "markdown",
      "metadata": {
        "id": "2tPeUXNcEuBz",
        "colab_type": "text"
      },
      "source": [
        "First Model: Using a Single Tree Classifier"
      ]
    },
    {
      "cell_type": "code",
      "metadata": {
        "id": "7IfusBm2ELLH",
        "colab_type": "code",
        "colab": {
          "base_uri": "https://localhost:8080/",
          "height": 52
        },
        "outputId": "eeb90366-2a16-400a-97f5-2fb7ad832b08"
      },
      "source": [
        "model = tree.DecisionTreeClassifier(max_depth = 4)\n",
        "model.fit(features, data_train[\"Survived\"])\n",
        "print(model.score(prepare_data(data_train), data_train[\"Survived\"]))\n",
        "model.score(prepare_data(data_test), data_test[\"Survived\"])"
      ],
      "execution_count": 10,
      "outputs": [
        {
          "output_type": "stream",
          "text": [
            "0.8117977528089888\n"
          ],
          "name": "stdout"
        },
        {
          "output_type": "execute_result",
          "data": {
            "text/plain": [
              "0.8212290502793296"
            ]
          },
          "metadata": {
            "tags": []
          },
          "execution_count": 10
        }
      ]
    },
    {
      "cell_type": "markdown",
      "metadata": {
        "id": "54pptlrfE_eI",
        "colab_type": "text"
      },
      "source": [
        "Second Model: Using a Random Forest"
      ]
    },
    {
      "cell_type": "code",
      "metadata": {
        "id": "1AylbtlzE3Ct",
        "colab_type": "code",
        "colab": {
          "base_uri": "https://localhost:8080/",
          "height": 52
        },
        "outputId": "354a9120-c8b7-45f0-a64b-b9dfa44cd423"
      },
      "source": [
        "from sklearn import ensemble # RF is an ensemble category of model\n",
        "forest = ensemble.RandomForestClassifier(n_estimators=10, bootstrap=False, max_features=\"auto\")\n",
        "forest.fit(features, data_train[\"Survived\"])\n",
        "print(forest.score(prepare_data(data_train), data_train[\"Survived\"]))\n",
        "forest.score(prepare_data(data_test), data_test[\"Survived\"])"
      ],
      "execution_count": 20,
      "outputs": [
        {
          "output_type": "stream",
          "text": [
            "0.9817415730337079\n"
          ],
          "name": "stdout"
        },
        {
          "output_type": "execute_result",
          "data": {
            "text/plain": [
              "0.8156424581005587"
            ]
          },
          "metadata": {
            "tags": []
          },
          "execution_count": 20
        }
      ]
    },
    {
      "cell_type": "markdown",
      "metadata": {
        "id": "7BUefXwXGUL0",
        "colab_type": "text"
      },
      "source": [
        "Feature importance in the Random Forest"
      ]
    },
    {
      "cell_type": "code",
      "metadata": {
        "id": "X2l-QRi8FZYA",
        "colab_type": "code",
        "colab": {
          "base_uri": "https://localhost:8080/",
          "height": 492
        },
        "outputId": "afd4f836-c63b-44e8-ade9-572b2a733262"
      },
      "source": [
        "X = features\n",
        "y = data_train[\"Survived\"]\n",
        "importances = forest.feature_importances_\n",
        "std = np.std([tree.feature_importances_ for tree in forest.estimators_],\n",
        "             axis=0)\n",
        "indices = np.argsort(importances)[::-1]\n",
        "\n",
        "# Print the feature ranking\n",
        "print(\"Feature ranking:\")\n",
        "\n",
        "for f in range(X.shape[1]):\n",
        "    print(\"%d. feature %s (%f)\" % (f + 1, features.columns[indices[f]], importances[indices[f]]))\n",
        "\n",
        "# Plot the feature importances of the forest\n",
        "plt.figure()\n",
        "plt.title(\"Feature importances\")\n",
        "plt.bar(range(X.shape[1]), importances[indices],\n",
        "       color=\"r\", yerr=std[indices], align=\"center\")\n",
        "plt.xticks(range(X.shape[1]), indices)\n",
        "plt.xlim([-1, X.shape[1]])\n",
        "plt.show()"
      ],
      "execution_count": 34,
      "outputs": [
        {
          "output_type": "stream",
          "text": [
            "Feature ranking:\n",
            "1. feature sqrt_Fare (0.282667)\n",
            "2. feature Age (0.248965)\n",
            "3. feature Sex=female (0.183859)\n",
            "4. feature Sex=male (0.097274)\n",
            "5. feature Pclass (0.064484)\n",
            "6. feature SibSp (0.048121)\n",
            "7. feature Parch (0.048055)\n",
            "8. feature Embarked=S (0.009347)\n",
            "9. feature Embarked=Q (0.009268)\n",
            "10. feature Embarked=C (0.007960)\n",
            "11. feature Embarked= (0.000000)\n"
          ],
          "name": "stdout"
        },
        {
          "output_type": "display_data",
          "data": {
            "image/png": "[encoded data removed]",
            "text/plain": [
              "<Figure size 432x288 with 1 Axes>"
            ]
          },
          "metadata": {
            "tags": []
          }
        }
      ]
    },
    {
      "cell_type": "code",
      "metadata": {
        "id": "cIawiZT8GvqT",
        "colab_type": "code",
        "colab": {}
      },
      "source": [
        ""
      ],
      "execution_count": 0,
      "outputs": []
    }
  ]
}