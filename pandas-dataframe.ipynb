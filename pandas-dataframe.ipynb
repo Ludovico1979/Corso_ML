{
 "cells": [
  {
   "cell_type": "code",
   "execution_count": 46,
   "metadata": {},
   "outputs": [],
   "source": [
    "import pandas as pd\n",
    "import numpy as np"
   ]
  },
  {
   "cell_type": "code",
<<<<<<< HEAD
   "execution_count": 11,
=======
   "execution_count": 50,
   "metadata": {},
   "outputs": [
    {
     "data": {
      "text/plain": [
       "5.0"
      ]
     },
     "execution_count": 50,
     "metadata": {},
     "output_type": "execute_result"
    }
   ],
   "source": [
    "miaserie = pd.Series([4, 5, 6.5, 7], index=['primo', 'secondo', 'terzo', 'quarto'])\n",
    "miaserie['secondo']"
   ]
  },
  {
   "cell_type": "code",
   "execution_count": 54,
>>>>>>> a6d271dad3aa18c954c05b81e7954a93370994ed
   "metadata": {},
   "outputs": [
    {
     "name": "stdout",
     "output_type": "stream",
     "text": [
      "0    4.0\n",
      "1    5.0\n",
      "2    6.5\n",
      "3    7.0\n",
      "dtype: float64\n",
      "primo      4.0\n",
      "secondo    5.0\n",
      "terzo      6.5\n",
      "quarto     7.0\n",
      "dtype: float64\n"
     ]
    },
    {
     "data": {
      "text/plain": [
       "a    3.0\n",
       "b    3.0\n",
       "c    NaN\n",
       "d    NaN\n",
       "dtype: float64"
      ]
     },
     "execution_count": 11,
     "metadata": {},
     "output_type": "execute_result"
    }
   ],
   "source": [
    "# La serie permette di indicizzare come vogliamo, omogeneizzando il formato\n",
    "#In questo esempio, gli indici sono 0 - 3 e il formato è float64\n",
    "miaserie=pd.Series([4,5,6.5,7])\n",
    "print(miaserie)\n",
    "# In questo esempio, indicizzo con dei nomi\n",
    "miaserie2=pd.Series([4,5,6.5,7],index=['primo','secondo','terzo','quarto'])\n",
    "print(miaserie2)\n",
    "\n",
    "#La somma avviene per indice\n",
    "ser1 = pd.Series([1,2,3],index=['b','a','c'])\n",
    "ser2 = pd.Series([1,2,3],index=['a','b','d'])\n",
    "ser1 + ser2"
   ]
  },
  {
   "cell_type": "code",
   "execution_count": 55,
   "metadata": {},
   "outputs": [
    {
     "data": {
      "text/plain": [
       "0    1.0\n",
       "1    2.0\n",
       "2    4.5\n",
       "3    8.0\n",
       "dtype: float64"
      ]
     },
     "execution_count": 55,
     "metadata": {},
     "output_type": "execute_result"
    }
   ],
   "source": [
    "nonomog = pd.Series([1, 2, 4.5, 8])\n",
    "nonomog"
   ]
  },
  {
   "cell_type": "code",
   "execution_count": 12,
   "metadata": {},
   "outputs": [
    {
     "data": {
      "text/plain": [
       "a    2.0\n",
       "b    4.0\n",
       "c    6.0\n",
       "d    NaN\n",
       "dtype: float64"
      ]
     },
     "execution_count": 12,
     "metadata": {},
     "output_type": "execute_result"
    }
   ],
   "source": [
    "d['two']+d['one']"
   ]
  },
  {
   "cell_type": "code",
   "execution_count": 57,
   "metadata": {},
   "outputs": [
    {
     "data": {
      "text/plain": [
       "a    3.0\n",
       "b    3.0\n",
       "c    NaN\n",
       "d    NaN\n",
       "dtype: float64"
      ]
     },
     "execution_count": 57,
     "metadata": {},
     "output_type": "execute_result"
    }
   ],
   "source": [
    "ser1 = pd.Series([1, 2, 3], index=['b', 'a', 'c'])\n",
    "ser2 = pd.Series([1, 2, 3], index=['a', 'b', 'd'])\n",
    "ser1 + ser2"
   ]
  },
  {
   "cell_type": "code",
   "execution_count": 58,
   "metadata": {},
   "outputs": [
    {
     "name": "stdout",
     "output_type": "stream",
     "text": [
      "{'one': a    1.0\n",
      "b    2.0\n",
      "c    3.0\n",
      "dtype: float64, 'two': a    1.0\n",
      "b    2.0\n",
      "c    3.0\n",
      "d    4.0\n",
      "dtype: float64}\n"
     ]
    }
   ],
   "source": [
    "d = {'one': pd.Series([1., 2., 3.], index=['a', 'b', 'c']),\n",
    "   ....:      'two': pd.Series([1., 2., 3., 4.], index=['a', 'b', 'c', 'd'])}\n",
    "print(d)"
   ]
  },
  {
   "cell_type": "code",
   "execution_count": null,
   "metadata": {},
   "outputs": [],
   "source": []
  },
  {
   "cell_type": "code",
   "execution_count": 8,
   "metadata": {},
   "outputs": [],
   "source": [
    "# Fondo le due serire nel dictionary, prendendo gli indici come posizione (d non esiste ne primo ma è inserito con NaN)\n",
    "df = pd.DataFrame(d)"
   ]
  },
  {
   "cell_type": "code",
<<<<<<< HEAD
   "execution_count": 9,
=======
   "execution_count": 59,
>>>>>>> a6d271dad3aa18c954c05b81e7954a93370994ed
   "metadata": {},
   "outputs": [
    {
     "data": {
      "text/html": [
       "<div>\n",
       "<style scoped>\n",
       "    .dataframe tbody tr th:only-of-type {\n",
       "        vertical-align: middle;\n",
       "    }\n",
       "\n",
       "    .dataframe tbody tr th {\n",
       "        vertical-align: top;\n",
       "    }\n",
       "\n",
       "    .dataframe thead th {\n",
       "        text-align: right;\n",
       "    }\n",
       "</style>\n",
       "<table border=\"1\" class=\"dataframe\">\n",
       "  <thead>\n",
       "    <tr style=\"text-align: right;\">\n",
       "      <th></th>\n",
       "      <th>one</th>\n",
       "      <th>two</th>\n",
       "    </tr>\n",
       "  </thead>\n",
       "  <tbody>\n",
       "    <tr>\n",
       "      <th>a</th>\n",
       "      <td>1.0</td>\n",
       "      <td>1.0</td>\n",
       "    </tr>\n",
       "    <tr>\n",
       "      <th>b</th>\n",
       "      <td>2.0</td>\n",
       "      <td>2.0</td>\n",
       "    </tr>\n",
       "    <tr>\n",
       "      <th>c</th>\n",
       "      <td>3.0</td>\n",
       "      <td>3.0</td>\n",
       "    </tr>\n",
       "    <tr>\n",
       "      <th>d</th>\n",
       "      <td>NaN</td>\n",
       "      <td>4.0</td>\n",
       "    </tr>\n",
       "  </tbody>\n",
       "</table>\n",
       "</div>"
      ],
      "text/plain": [
       "   one  two\n",
       "a  1.0  1.0\n",
       "b  2.0  2.0\n",
       "c  3.0  3.0\n",
       "d  NaN  4.0"
      ]
     },
<<<<<<< HEAD
     "execution_count": 9,
=======
     "execution_count": 59,
>>>>>>> a6d271dad3aa18c954c05b81e7954a93370994ed
     "metadata": {},
     "output_type": "execute_result"
    }
   ],
   "source": [
    "df"
   ]
  },
  {
   "cell_type": "code",
   "execution_count": 60,
   "metadata": {},
   "outputs": [
    {
     "data": {
      "text/plain": [
       "a    1.0\n",
       "b    2.0\n",
       "c    3.0\n",
       "d    NaN\n",
       "Name: one, dtype: float64"
      ]
     },
     "execution_count": 60,
     "metadata": {},
     "output_type": "execute_result"
    }
   ],
   "source": [
    "df['one'] # select by column"
   ]
  },
  {
   "cell_type": "code",
   "execution_count": 61,
   "metadata": {},
   "outputs": [
    {
     "data": {
      "text/plain": [
       "1.0"
      ]
     },
     "execution_count": 61,
     "metadata": {},
     "output_type": "execute_result"
    }
   ],
   "source": [
    "df['one'][0]\n",
    "df['one']['a']"
   ]
  },
  {
   "cell_type": "code",
   "execution_count": 21,
   "metadata": {},
   "outputs": [
    {
     "data": {
      "text/plain": [
       "one    2.0\n",
       "two    2.0\n",
       "Name: b, dtype: float64"
      ]
     },
     "execution_count": 21,
     "metadata": {},
     "output_type": "execute_result"
    }
   ],
   "source": [
    "df.loc['b'] # select by row label"
   ]
  },
  {
   "cell_type": "code",
   "execution_count": 19,
   "metadata": {},
   "outputs": [
    {
     "data": {
      "text/plain": [
       "one    3.0\n",
       "two    3.0\n",
       "Name: c, dtype: float64"
      ]
     },
     "execution_count": 19,
     "metadata": {},
     "output_type": "execute_result"
    }
   ],
   "source": [
    "df.iloc[2] # select by row index"
   ]
  },
  {
   "cell_type": "code",
<<<<<<< HEAD
   "execution_count": 16,
   "metadata": {},
   "outputs": [
    {
     "name": "stdout",
     "output_type": "stream",
     "text": [
      "         0         1         2         3         4         5         6   \\\n",
      "0  0.773449  0.724680  0.365446  0.489371  0.526906  0.336637  0.944591   \n",
      "1  0.509618  0.784615  0.365525  0.550329  0.518364  0.139717  0.821058   \n",
      "2  0.318705  0.369509  0.492474  0.688138  0.348567  0.318465  0.767968   \n",
      "3  0.938856  0.865133  0.276504  0.115546  0.633573  0.857499  0.148757   \n",
      "4  0.950311  0.179895  0.879043  0.493396  0.990900  0.947071  0.671547   \n",
      "\n",
      "         7         8         9   ...        70        71        72        73  \\\n",
      "0  0.731427  0.931251  0.252023  ...  0.969285  0.058511  0.572969  0.487456   \n",
      "1  0.852041  0.454660  0.642581  ...  0.365150  0.863470  0.249594  0.597929   \n",
      "2  0.605833  0.612462  0.487172  ...  0.673448  0.160153  0.378495  0.561228   \n",
      "3  0.559142  0.480655  0.173164  ...  0.729579  0.357951  0.599062  0.488006   \n",
      "4  0.839142  0.986176  0.054762  ...  0.789734  0.378440  0.642672  0.813164   \n",
      "\n",
      "         74        75        76        77        78        79  \n",
      "0  0.470860  0.178467  0.585557  0.512177  0.766189  0.083764  \n",
      "1  0.249572  0.855137  0.130846  0.628105  0.850350  0.875451  \n",
      "2  0.588078  0.911386  0.480208  0.898455  0.028913  0.981168  \n",
      "3  0.642063  0.256454  0.872026  0.958328  0.336440  0.316048  \n",
      "4  0.957720  0.284661  0.974634  0.676658  0.577110  0.567840  \n",
      "\n",
      "[5 rows x 80 columns]\n",
      "0     0.318705\n",
      "1     0.369509\n",
      "2     0.492474\n",
      "3     0.688138\n",
      "4     0.348567\n",
      "5     0.318465\n",
      "6     0.767968\n",
      "7     0.605833\n",
      "8     0.612462\n",
      "9     0.487172\n",
      "10    0.912490\n",
      "11    0.044250\n",
      "12    0.682416\n",
      "13    0.501578\n",
      "14    0.579261\n",
      "15    0.567280\n",
      "16    0.876395\n",
      "17    0.681637\n",
      "18    0.646966\n",
      "19    0.215397\n",
      "20    0.869653\n",
      "21    0.718539\n",
      "22    0.984589\n",
      "23    0.817562\n",
      "24    0.244433\n",
      "25    0.320280\n",
      "26    0.557302\n",
      "27    0.277573\n",
      "28    0.684930\n",
      "29    0.190264\n",
      "        ...   \n",
      "50    0.272878\n",
      "51    0.309910\n",
      "52    0.978825\n",
      "53    0.857063\n",
      "54    0.077961\n",
      "55    0.864332\n",
      "56    0.746247\n",
      "57    0.399532\n",
      "58    0.941077\n",
      "59    0.423748\n",
      "60    0.631576\n",
      "61    0.210329\n",
      "62    0.959244\n",
      "63    0.832626\n",
      "64    0.188896\n",
      "65    0.937249\n",
      "66    0.976781\n",
      "67    0.705073\n",
      "68    0.766639\n",
      "69    0.445956\n",
      "70    0.673448\n",
      "71    0.160153\n",
      "72    0.378495\n",
      "73    0.561228\n",
      "74    0.588078\n",
      "75    0.911386\n",
      "76    0.480208\n",
      "77    0.898455\n",
      "78    0.028913\n",
      "79    0.981168\n",
      "Name: 2, Length: 80, dtype: float64\n",
      "0    0.365446\n",
      "1    0.365525\n",
      "2    0.492474\n",
      "3    0.276504\n",
      "4    0.879043\n",
      "Name: 2, dtype: float64\n"
     ]
    }
   ],
   "source": [
    "df2=pd.DataFrame(np.random.rand(5,80))\n",
    "print(df2)\n",
    "# Così facendo, ho creato una matrice, nella quale posso entrare per riga o per colonna (non fattibile da numpy)\n",
    "print(df2.iloc[2])\n",
    "print(df2[2])"
=======
   "execution_count": 62,
   "metadata": {},
   "outputs": [
    {
     "name": "stdout",
     "output_type": "stream",
     "text": [
      "         0         1         2         3         4         5         6   \\\n",
      "0  0.535152  0.095929  0.395406  0.936506  0.211616  0.343637  0.529339   \n",
      "1  0.070010  0.491663  0.906705  0.219558  0.444858  0.050416  0.066870   \n",
      "2  0.343313  0.675234  0.127901  0.088032  0.563167  0.107934  0.030566   \n",
      "3  0.868817  0.436623  0.825485  0.710495  0.757594  0.979150  0.998631   \n",
      "4  0.802051  0.538301  0.622823  0.295235  0.533551  0.924103  0.503972   \n",
      "\n",
      "         7         8         9   ...        70        71        72        73  \\\n",
      "0  0.552649  0.527557  0.684992  ...  0.461948  0.889837  0.468499  0.238012   \n",
      "1  0.620533  0.975998  0.469268  ...  0.804340  0.776403  0.848122  0.007830   \n",
      "2  0.906064  0.365690  0.881340  ...  0.549896  0.326393  0.712379  0.296398   \n",
      "3  0.903271  0.209482  0.877794  ...  0.489182  0.566886  0.690581  0.022470   \n",
      "4  0.124876  0.334606  0.825555  ...  0.802756  0.537186  0.769224  0.760702   \n",
      "\n",
      "         74        75        76        77        78        79  \n",
      "0  0.730350  0.144306  0.037600  0.952389  0.864900  0.097042  \n",
      "1  0.606825  0.532990  0.087372  0.929093  0.821879  0.942547  \n",
      "2  0.000021  0.772670  0.019261  0.390892  0.399992  0.171519  \n",
      "3  0.130966  0.102406  0.493603  0.272449  0.943200  0.939550  \n",
      "4  0.628455  0.917148  0.088545  0.022127  0.217272  0.294769  \n",
      "\n",
      "[5 rows x 80 columns]\n"
     ]
    }
   ],
   "source": [
    "df2 = pd.DataFrame(np.random.rand(5, 80))\n",
    "print(df2)"
   ]
  },
  {
   "cell_type": "code",
   "execution_count": 65,
   "metadata": {},
   "outputs": [
    {
     "data": {
      "text/plain": [
       "0    0.395406\n",
       "1    0.906705\n",
       "2    0.127901\n",
       "3    0.825485\n",
       "4    0.622823\n",
       "Name: 2, dtype: float64"
      ]
     },
     "execution_count": 65,
     "metadata": {},
     "output_type": "execute_result"
    }
   ],
   "source": [
    "df2[2]"
   ]
  },
  {
   "cell_type": "code",
   "execution_count": 45,
   "metadata": {},
   "outputs": [
    {
     "data": {
      "text/html": [
       "<div>\n",
       "<style scoped>\n",
       "    .dataframe tbody tr th:only-of-type {\n",
       "        vertical-align: middle;\n",
       "    }\n",
       "\n",
       "    .dataframe tbody tr th {\n",
       "        vertical-align: top;\n",
       "    }\n",
       "\n",
       "    .dataframe thead th {\n",
       "        text-align: right;\n",
       "    }\n",
       "</style>\n",
       "<table border=\"1\" class=\"dataframe\">\n",
       "  <thead>\n",
       "    <tr style=\"text-align: right;\">\n",
       "      <th></th>\n",
       "      <th>one</th>\n",
       "      <th>two</th>\n",
       "    </tr>\n",
       "  </thead>\n",
       "  <tbody>\n",
       "    <tr>\n",
       "      <th>b</th>\n",
       "      <td>2.0</td>\n",
       "      <td>2.0</td>\n",
       "    </tr>\n",
       "  </tbody>\n",
       "</table>\n",
       "</div>"
      ],
      "text/plain": [
       "   one  two\n",
       "b  2.0  2.0"
      ]
     },
     "execution_count": 45,
     "metadata": {},
     "output_type": "execute_result"
    }
   ],
   "source": [
    "# so[(so['score'] >= 5) & (so['ans_name'] == 'Scott Boston')]\n",
    "df.loc[(df['one']>1) & (df['two']<3)] # select row conditional SELECT * FROM DF WHERE ONE > 1 AND TWO < 3"
>>>>>>> a6d271dad3aa18c954c05b81e7954a93370994ed
   ]
  },
  {
   "cell_type": "code",
   "execution_count": 19,
   "metadata": {},
   "outputs": [
    {
     "name": "stdout",
     "output_type": "stream",
     "text": [
      "   one  two\n",
      "b  2.0  2.0\n",
      "c  3.0  3.0\n",
      "   one  two\n",
      "b  2.0  2.0\n"
     ]
    }
   ],
   "source": [
    "print(df.loc[df['one']>1]) # select row conditional SELECT * FROM DF WHERE ONE > 1\n",
    "print(df.loc[(df['one']>1) & (df['two']<3)]) # Questa scrittura permette di selezionare le funzioni, con booleani"
   ]
  },
  {
   "cell_type": "code",
   "execution_count": 21,
   "metadata": {},
   "outputs": [
    {
     "name": "stdout",
     "output_type": "stream",
     "text": [
      "   one  two\n",
      "b  2.0  2.0\n",
      "c  3.0  3.0\n",
      "   one  two\n",
      "b  2.0  2.0\n"
     ]
    }
   ],
   "source": [
    "print(df[df['one']>1]) # same as before but shorter\n",
    "print(df[(df['one']>1) & (df['two']<3)])"
   ]
  },
  {
   "cell_type": "code",
   "execution_count": 21,
   "metadata": {},
   "outputs": [
    {
     "data": {
      "text/plain": [
       "b    2.0\n",
       "c    3.0\n",
       "Name: two, dtype: float64"
      ]
     },
     "execution_count": 21,
     "metadata": {},
     "output_type": "execute_result"
    }
   ],
   "source": [
    "df[df['one']>1]['two'] # SELECT TWO FROM DF WHERE ONE > 1"
   ]
  },
  {
   "cell_type": "code",
   "execution_count": 22,
   "metadata": {},
   "outputs": [
    {
     "data": {
      "text/html": [
       "<div>\n",
       "<style scoped>\n",
       "    .dataframe tbody tr th:only-of-type {\n",
       "        vertical-align: middle;\n",
       "    }\n",
       "\n",
       "    .dataframe tbody tr th {\n",
       "        vertical-align: top;\n",
       "    }\n",
       "\n",
       "    .dataframe thead th {\n",
       "        text-align: right;\n",
       "    }\n",
       "</style>\n",
       "<table border=\"1\" class=\"dataframe\">\n",
       "  <thead>\n",
       "    <tr style=\"text-align: right;\">\n",
       "      <th></th>\n",
       "      <th>a</th>\n",
       "      <th>b</th>\n",
       "      <th>c</th>\n",
       "      <th>d</th>\n",
       "    </tr>\n",
       "  </thead>\n",
       "  <tbody>\n",
       "    <tr>\n",
       "      <th>one</th>\n",
       "      <td>1.0</td>\n",
       "      <td>2.0</td>\n",
       "      <td>3.0</td>\n",
       "      <td>NaN</td>\n",
       "    </tr>\n",
       "    <tr>\n",
       "      <th>two</th>\n",
       "      <td>1.0</td>\n",
       "      <td>2.0</td>\n",
       "      <td>3.0</td>\n",
       "      <td>4.0</td>\n",
       "    </tr>\n",
       "  </tbody>\n",
       "</table>\n",
       "</div>"
      ],
      "text/plain": [
       "       a    b    c    d\n",
       "one  1.0  2.0  3.0  NaN\n",
       "two  1.0  2.0  3.0  4.0"
      ]
     },
     "execution_count": 22,
     "metadata": {},
     "output_type": "execute_result"
    }
   ],
   "source": [
    "#Transpose\n",
    "df[:].T"
   ]
  },
  {
   "cell_type": "code",
   "execution_count": null,
   "metadata": {},
   "outputs": [],
   "source": []
  }
 ],
 "metadata": {
  "kernelspec": {
   "display_name": "Python 3",
   "language": "python",
   "name": "python3"
  },
  "language_info": {
   "codemirror_mode": {
    "name": "ipython",
    "version": 3
   },
   "file_extension": ".py",
   "mimetype": "text/x-python",
   "name": "python",
   "nbconvert_exporter": "python",
   "pygments_lexer": "ipython3",
   "version": "3.7.3"
  }
 },
 "nbformat": 4,
 "nbformat_minor": 2
}
